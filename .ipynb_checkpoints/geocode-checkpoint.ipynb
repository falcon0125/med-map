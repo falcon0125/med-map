{
 "cells": [
  {
   "cell_type": "code",
   "execution_count": 4,
   "metadata": {
    "collapsed": false
   },
   "outputs": [],
   "source": [
    "# import matplotlib.pyplot as plt\n",
    "import pandas as pd\n",
    "import numpy as np\n",
    "%matplotlib inline"
   ]
  },
  {
   "cell_type": "code",
   "execution_count": 5,
   "metadata": {
    "collapsed": false
   },
   "outputs": [],
   "source": [
    "df = pd.read_csv('hospbsc.csv',encoding='UTF8')"
   ]
  },
  {
   "cell_type": "code",
   "execution_count": 8,
   "metadata": {
    "collapsed": false
   },
   "outputs": [],
   "source": [
    "df.columns=['area','id','name','address','phone-code', 'phone', 'level', 'code','type','close_date' ]"
   ]
  },
  {
   "cell_type": "code",
   "execution_count": 10,
   "metadata": {
    "collapsed": false,
    "scrolled": true
   },
   "outputs": [
    {
     "data": {
      "text/plain": [
       "0                          台北市大同區鄭州路４０號\n",
       "1                     台北市大同區鄭州路１４５號（代表）\n",
       "2                         基隆市信義區信二路２６８號\n",
       "3             新北市三重區新北大道１段３號、板橋區英士路１９８號\n",
       "4        新北市新莊區中正路７９４號、桃園縣龜山鄉萬壽路１段５０巷２號\n",
       "5                         新北市新莊區思源路１２７號\n",
       "6                          新北市八里區華富山３３號\n",
       "7                           金門縣金湖鎮復興路２號\n",
       "8                         基隆市信義區東信路２８２號\n",
       "9                         連江縣南竿鄉復興村２１７號\n",
       "10                 台北市中正區中山南路７、８號；常德街１號\n",
       "11                         台北市中正區中山南路８號\n",
       "12            台北市萬華區康定路３７號、台北市萬華區內江街８７號\n",
       "13                       新北市金山區五湖里玉爐路７號\n",
       "14                        宜蘭縣宜蘭市新民路１５２號\n",
       "15                        台北市松山區健康路１３１號\n",
       "16                      台北市內湖區成功路２段３２５號\n",
       "17                 台北市北投區新民路６０號　中和街２５０號\n",
       "18              基隆市中正區正榮街１００號，仁愛區孝二路３９號\n",
       "19                      台北市北投區石牌路２段２０１號\n",
       "20                      宜蘭縣蘇澳鎮蘇濱路１段３０１號\n",
       "21                        宜蘭縣員山鄉榮光路３８６號\n",
       "22                     台北市北投區知行路２２５巷１２號\n",
       "23                   台北市大安區仁愛路４段１１２巷１１號\n",
       "24                         臺北市中正區福州街１４號\n",
       "25                  新北市板橋區文化路１段１９６號１－４樓\n",
       "26          新北市板橋區文化路１段２６７、２６９、２７１號１－４樓\n",
       "27                    新北市新莊區中正路３９５號１－５樓\n",
       "28                      新北市三峽區介壽路１段１９９號\n",
       "29                       宜蘭縣壯圍鄉古亭路２３－９號\n",
       "                      ...              \n",
       "30579                   花蓮縣卓溪鄉卓溪村中正路６５號\n",
       "30580                       台東縣台東市五權街１號\n",
       "30581                  台東縣成功鎮忠仁里中山東路６４號\n",
       "30582                  台東縣卑南鄉太平村和平路１３２號\n",
       "30583                  台東縣大武鄉大武村濱海路１００號\n",
       "30584                 台東縣太麻里泰和村２鄰民權路６６號\n",
       "30585                  台東縣東河鄉南東河村１０鄰７４號\n",
       "30586                台東縣鹿野鄉鹿野村中華路１段４１８號\n",
       "30587                       台東縣綠島鄉中寮村１號\n",
       "30588                 台東縣延平鄉桃源村昇平路１鄰１１號\n",
       "30589                   台東縣海端鄉海端村山界路２９號\n",
       "30590                    台東縣金峰鄉賓茂村１鄰１４號\n",
       "30591                      台東縣蘭嶼鄉紅頭村３６號\n",
       "30592                   花蓮縣花蓮市中央路３段７０７號\n",
       "30593                      花蓮縣花蓮市民權路４４號\n",
       "30594                      花蓮縣花蓮市民權路４４號\n",
       "30595                  台東縣台東市新生里開封街３５０號\n",
       "30596                   台東縣台東市長沙街３０３巷１號\n",
       "30597                   台東縣關山鎮和平路１２５－５號\n",
       "30598                      花蓮縣玉里鎮新興街９１號\n",
       "30599                   花蓮縣玉里鎮大同路２２２之１號\n",
       "30600                    花蓮縣玉里鎮長良里忠義３３號\n",
       "30601                     花蓮縣玉里鎮大同路２５８號\n",
       "30602                   花蓮縣玉里鎮民國路二段１０２號\n",
       "30603                       台東縣台東市五權街１號\n",
       "30604                   花蓮縣花蓮市中華路２５１之１號\n",
       "30605                   花蓮縣花蓮市中華路３７３之７號\n",
       "30606                   花蓮縣玉里鎮中城里中興街１４號\n",
       "30607                  台東縣台東市民族里更生路２４９號\n",
       "30608                     台東縣台東市光明路１６１號\n",
       "Name: address, dtype: object"
      ]
     },
     "execution_count": 10,
     "metadata": {},
     "output_type": "execute_result"
    }
   ],
   "source": [
    "df.address"
   ]
  },
  {
   "cell_type": "code",
   "execution_count": 12,
   "metadata": {
    "collapsed": false
   },
   "outputs": [],
   "source": [
    "import geocoder "
   ]
  },
  {
   "cell_type": "code",
   "execution_count": 13,
   "metadata": {
    "collapsed": false
   },
   "outputs": [
    {
     "data": {
      "text/plain": [
       "<module 'geocoder' from 'C:\\Users\\Falcon\\Anaconda2\\lib\\site-packages\\geocoder\\__init__.pyc'>"
      ]
     },
     "execution_count": 13,
     "metadata": {},
     "output_type": "execute_result"
    }
   ],
   "source": [
    "geocoder.google('')"
   ]
  },
  {
   "cell_type": "code",
   "execution_count": null,
   "metadata": {
    "collapsed": true
   },
   "outputs": [],
   "source": []
  }
 ],
 "metadata": {
  "kernelspec": {
   "display_name": "Python 2",
   "language": "python",
   "name": "python2"
  },
  "language_info": {
   "codemirror_mode": {
    "name": "ipython",
    "version": 2
   },
   "file_extension": ".py",
   "mimetype": "text/x-python",
   "name": "python",
   "nbconvert_exporter": "python",
   "pygments_lexer": "ipython2",
   "version": "2.7.10"
  }
 },
 "nbformat": 4,
 "nbformat_minor": 0
}
